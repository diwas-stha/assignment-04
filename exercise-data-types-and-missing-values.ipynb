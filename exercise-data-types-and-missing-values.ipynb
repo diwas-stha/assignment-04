{
 "cells": [
  {
   "cell_type": "markdown",
   "id": "4ae82d95",
   "metadata": {
    "papermill": {
     "duration": 0.006697,
     "end_time": "2023-08-07T09:56:19.740480",
     "exception": false,
     "start_time": "2023-08-07T09:56:19.733783",
     "status": "completed"
    },
    "tags": []
   },
   "source": [
    "**This notebook is an exercise in the [Pandas](https://www.kaggle.com/learn/pandas) course.  You can reference the tutorial at [this link](https://www.kaggle.com/residentmario/data-types-and-missing-values).**\n",
    "\n",
    "---\n"
   ]
  },
  {
   "cell_type": "markdown",
   "id": "091416ba",
   "metadata": {
    "papermill": {
     "duration": 0.005846,
     "end_time": "2023-08-07T09:56:19.752413",
     "exception": false,
     "start_time": "2023-08-07T09:56:19.746567",
     "status": "completed"
    },
    "tags": []
   },
   "source": [
    "# Introduction\n",
    "\n",
    "Run the following cell to load your data and some utility functions."
   ]
  },
  {
   "cell_type": "code",
   "execution_count": 1,
   "id": "7faf1c90",
   "metadata": {
    "execution": {
     "iopub.execute_input": "2023-08-07T09:56:19.766840Z",
     "iopub.status.busy": "2023-08-07T09:56:19.766126Z",
     "iopub.status.idle": "2023-08-07T09:56:23.531619Z",
     "shell.execute_reply": "2023-08-07T09:56:23.530324Z"
    },
    "papermill": {
     "duration": 3.776245,
     "end_time": "2023-08-07T09:56:23.534634",
     "exception": false,
     "start_time": "2023-08-07T09:56:19.758389",
     "status": "completed"
    },
    "tags": []
   },
   "outputs": [
    {
     "name": "stdout",
     "output_type": "stream",
     "text": [
      "Setup complete.\n"
     ]
    }
   ],
   "source": [
    "import pandas as pd\n",
    "\n",
    "reviews = pd.read_csv(\"../input/wine-reviews/winemag-data-130k-v2.csv\", index_col=0)\n",
    "\n",
    "from learntools.core import binder; binder.bind(globals())\n",
    "from learntools.pandas.data_types_and_missing_data import *\n",
    "print(\"Setup complete.\")"
   ]
  },
  {
   "cell_type": "markdown",
   "id": "2132a6d0",
   "metadata": {
    "papermill": {
     "duration": 0.005473,
     "end_time": "2023-08-07T09:56:23.545988",
     "exception": false,
     "start_time": "2023-08-07T09:56:23.540515",
     "status": "completed"
    },
    "tags": []
   },
   "source": [
    "# Exercises"
   ]
  },
  {
   "cell_type": "markdown",
   "id": "33c54e75",
   "metadata": {
    "papermill": {
     "duration": 0.005466,
     "end_time": "2023-08-07T09:56:23.557281",
     "exception": false,
     "start_time": "2023-08-07T09:56:23.551815",
     "status": "completed"
    },
    "tags": []
   },
   "source": [
    "## 1. \n",
    "What is the data type of the `points` column in the dataset?"
   ]
  },
  {
   "cell_type": "code",
   "execution_count": 2,
   "id": "38b1bf9a",
   "metadata": {
    "execution": {
     "iopub.execute_input": "2023-08-07T09:56:23.571139Z",
     "iopub.status.busy": "2023-08-07T09:56:23.570584Z",
     "iopub.status.idle": "2023-08-07T09:56:23.585814Z",
     "shell.execute_reply": "2023-08-07T09:56:23.583986Z"
    },
    "papermill": {
     "duration": 0.025695,
     "end_time": "2023-08-07T09:56:23.588702",
     "exception": false,
     "start_time": "2023-08-07T09:56:23.563007",
     "status": "completed"
    },
    "tags": []
   },
   "outputs": [
    {
     "data": {
      "application/javascript": [
       "parent.postMessage({\"jupyterEvent\": \"custom.exercise_interaction\", \"data\": {\"outcomeType\": 1, \"valueTowardsCompletion\": 0.25, \"interactionType\": 1, \"questionType\": 1, \"questionId\": \"1_PointsDtype\", \"learnToolsVersion\": \"0.3.4\", \"failureMessage\": \"\", \"exceptionClass\": \"\", \"trace\": \"\"}}, \"*\")"
      ],
      "text/plain": [
       "<IPython.core.display.Javascript object>"
      ]
     },
     "metadata": {},
     "output_type": "display_data"
    },
    {
     "data": {
      "text/markdown": [
       "<span style=\"color:#33cc33\">Correct</span>"
      ],
      "text/plain": [
       "Correct"
      ]
     },
     "metadata": {},
     "output_type": "display_data"
    }
   ],
   "source": [
    "# Your code here\n",
    "dtype = reviews.points.dtype\n",
    "\n",
    "# Check your answer\n",
    "q1.check()"
   ]
  },
  {
   "cell_type": "code",
   "execution_count": 3,
   "id": "a6676a90",
   "metadata": {
    "execution": {
     "iopub.execute_input": "2023-08-07T09:56:23.603900Z",
     "iopub.status.busy": "2023-08-07T09:56:23.603377Z",
     "iopub.status.idle": "2023-08-07T09:56:23.610107Z",
     "shell.execute_reply": "2023-08-07T09:56:23.608595Z"
    },
    "papermill": {
     "duration": 0.018075,
     "end_time": "2023-08-07T09:56:23.613349",
     "exception": false,
     "start_time": "2023-08-07T09:56:23.595274",
     "status": "completed"
    },
    "tags": []
   },
   "outputs": [],
   "source": [
    "#q1.hint()\n",
    "#q1.solution()"
   ]
  },
  {
   "cell_type": "markdown",
   "id": "64f3162e",
   "metadata": {
    "papermill": {
     "duration": 0.0062,
     "end_time": "2023-08-07T09:56:23.626045",
     "exception": false,
     "start_time": "2023-08-07T09:56:23.619845",
     "status": "completed"
    },
    "tags": []
   },
   "source": [
    "## 2. \n",
    "Create a Series from entries in the `points` column, but convert the entries to strings. Hint: strings are `str` in native Python."
   ]
  },
  {
   "cell_type": "code",
   "execution_count": 4,
   "id": "2fb62d87",
   "metadata": {
    "execution": {
     "iopub.execute_input": "2023-08-07T09:56:23.640713Z",
     "iopub.status.busy": "2023-08-07T09:56:23.640236Z",
     "iopub.status.idle": "2023-08-07T09:56:23.747712Z",
     "shell.execute_reply": "2023-08-07T09:56:23.746193Z"
    },
    "papermill": {
     "duration": 0.118043,
     "end_time": "2023-08-07T09:56:23.750399",
     "exception": false,
     "start_time": "2023-08-07T09:56:23.632356",
     "status": "completed"
    },
    "tags": []
   },
   "outputs": [
    {
     "data": {
      "application/javascript": [
       "parent.postMessage({\"jupyterEvent\": \"custom.exercise_interaction\", \"data\": {\"outcomeType\": 1, \"valueTowardsCompletion\": 0.25, \"interactionType\": 1, \"questionType\": 1, \"questionId\": \"2_StrPoints\", \"learnToolsVersion\": \"0.3.4\", \"failureMessage\": \"\", \"exceptionClass\": \"\", \"trace\": \"\"}}, \"*\")"
      ],
      "text/plain": [
       "<IPython.core.display.Javascript object>"
      ]
     },
     "metadata": {},
     "output_type": "display_data"
    },
    {
     "data": {
      "text/markdown": [
       "<span style=\"color:#33cc33\">Correct</span>"
      ],
      "text/plain": [
       "Correct"
      ]
     },
     "metadata": {},
     "output_type": "display_data"
    }
   ],
   "source": [
    "point_strings = reviews.points.astype('str')\n",
    "\n",
    "# Check your answer\n",
    "q2.check()"
   ]
  },
  {
   "cell_type": "code",
   "execution_count": 5,
   "id": "0a67b2bf",
   "metadata": {
    "execution": {
     "iopub.execute_input": "2023-08-07T09:56:23.765776Z",
     "iopub.status.busy": "2023-08-07T09:56:23.765299Z",
     "iopub.status.idle": "2023-08-07T09:56:23.771361Z",
     "shell.execute_reply": "2023-08-07T09:56:23.770102Z"
    },
    "papermill": {
     "duration": 0.016999,
     "end_time": "2023-08-07T09:56:23.773924",
     "exception": false,
     "start_time": "2023-08-07T09:56:23.756925",
     "status": "completed"
    },
    "tags": []
   },
   "outputs": [],
   "source": [
    "#q2.hint()\n",
    "#q2.solution()"
   ]
  },
  {
   "cell_type": "markdown",
   "id": "eeb7bee9",
   "metadata": {
    "papermill": {
     "duration": 0.006313,
     "end_time": "2023-08-07T09:56:23.788228",
     "exception": false,
     "start_time": "2023-08-07T09:56:23.781915",
     "status": "completed"
    },
    "tags": []
   },
   "source": [
    "## 3.\n",
    "Sometimes the price column is null. How many reviews in the dataset are missing a price?"
   ]
  },
  {
   "cell_type": "code",
   "execution_count": 6,
   "id": "71deda08",
   "metadata": {
    "execution": {
     "iopub.execute_input": "2023-08-07T09:56:23.803119Z",
     "iopub.status.busy": "2023-08-07T09:56:23.802700Z",
     "iopub.status.idle": "2023-08-07T09:56:23.816753Z",
     "shell.execute_reply": "2023-08-07T09:56:23.815234Z"
    },
    "papermill": {
     "duration": 0.024562,
     "end_time": "2023-08-07T09:56:23.819273",
     "exception": false,
     "start_time": "2023-08-07T09:56:23.794711",
     "status": "completed"
    },
    "tags": []
   },
   "outputs": [
    {
     "name": "stdout",
     "output_type": "stream",
     "text": [
      "8996\n"
     ]
    },
    {
     "data": {
      "application/javascript": [
       "parent.postMessage({\"jupyterEvent\": \"custom.exercise_interaction\", \"data\": {\"outcomeType\": 1, \"valueTowardsCompletion\": 0.25, \"interactionType\": 1, \"questionType\": 1, \"questionId\": \"3_CountMissingPrices\", \"learnToolsVersion\": \"0.3.4\", \"failureMessage\": \"\", \"exceptionClass\": \"\", \"trace\": \"\"}}, \"*\")"
      ],
      "text/plain": [
       "<IPython.core.display.Javascript object>"
      ]
     },
     "metadata": {},
     "output_type": "display_data"
    },
    {
     "data": {
      "text/markdown": [
       "<span style=\"color:#33cc33\">Correct</span>"
      ],
      "text/plain": [
       "Correct"
      ]
     },
     "metadata": {},
     "output_type": "display_data"
    }
   ],
   "source": [
    "n_missing_prices = pd.isnull(reviews.price).sum()\n",
    "\n",
    "print(n_missing_prices)\n",
    "\n",
    "\n",
    "# Check your answer\n",
    "q3.check()"
   ]
  },
  {
   "cell_type": "code",
   "execution_count": 7,
   "id": "2433ec5b",
   "metadata": {
    "execution": {
     "iopub.execute_input": "2023-08-07T09:56:23.836130Z",
     "iopub.status.busy": "2023-08-07T09:56:23.835616Z",
     "iopub.status.idle": "2023-08-07T09:56:23.841075Z",
     "shell.execute_reply": "2023-08-07T09:56:23.839536Z"
    },
    "papermill": {
     "duration": 0.018318,
     "end_time": "2023-08-07T09:56:23.844723",
     "exception": false,
     "start_time": "2023-08-07T09:56:23.826405",
     "status": "completed"
    },
    "tags": []
   },
   "outputs": [],
   "source": [
    "#q3.hint()\n",
    "#q3.solution()"
   ]
  },
  {
   "cell_type": "markdown",
   "id": "543fa04c",
   "metadata": {
    "papermill": {
     "duration": 0.00709,
     "end_time": "2023-08-07T09:56:23.859406",
     "exception": false,
     "start_time": "2023-08-07T09:56:23.852316",
     "status": "completed"
    },
    "tags": []
   },
   "source": [
    "## 4.\n",
    "What are the most common wine-producing regions? Create a Series counting the number of times each value occurs in the `region_1` field. This field is often missing data, so replace missing values with `Unknown`. Sort in descending order.  Your output should look something like this:\n",
    "\n",
    "```\n",
    "Unknown                    21247\n",
    "Napa Valley                 4480\n",
    "                           ...  \n",
    "Bardolino Superiore            1\n",
    "Primitivo del Tarantino        1\n",
    "Name: region_1, Length: 1230, dtype: int64\n",
    "```"
   ]
  },
  {
   "cell_type": "code",
   "execution_count": 8,
   "id": "9c8dddc7",
   "metadata": {
    "execution": {
     "iopub.execute_input": "2023-08-07T09:56:23.878547Z",
     "iopub.status.busy": "2023-08-07T09:56:23.877816Z",
     "iopub.status.idle": "2023-08-07T09:56:23.968236Z",
     "shell.execute_reply": "2023-08-07T09:56:23.966605Z"
    },
    "papermill": {
     "duration": 0.10476,
     "end_time": "2023-08-07T09:56:23.971659",
     "exception": false,
     "start_time": "2023-08-07T09:56:23.866899",
     "status": "completed"
    },
    "tags": []
   },
   "outputs": [
    {
     "data": {
      "application/javascript": [
       "parent.postMessage({\"jupyterEvent\": \"custom.exercise_interaction\", \"data\": {\"outcomeType\": 1, \"valueTowardsCompletion\": 0.25, \"interactionType\": 1, \"questionType\": 2, \"questionId\": \"4_ReviewsPerRegion\", \"learnToolsVersion\": \"0.3.4\", \"failureMessage\": \"\", \"exceptionClass\": \"\", \"trace\": \"\"}}, \"*\")"
      ],
      "text/plain": [
       "<IPython.core.display.Javascript object>"
      ]
     },
     "metadata": {},
     "output_type": "display_data"
    },
    {
     "data": {
      "text/markdown": [
       "<span style=\"color:#33cc33\">Correct</span>"
      ],
      "text/plain": [
       "Correct"
      ]
     },
     "metadata": {},
     "output_type": "display_data"
    }
   ],
   "source": [
    "reviews_per_region = reviews.region_1.fillna(\"Unknown\").value_counts().sort_values(ascending=False)\n",
    "\n",
    "# Check your answer\n",
    "q4.check()"
   ]
  },
  {
   "cell_type": "code",
   "execution_count": 9,
   "id": "ceee19cb",
   "metadata": {
    "execution": {
     "iopub.execute_input": "2023-08-07T09:56:23.989695Z",
     "iopub.status.busy": "2023-08-07T09:56:23.989228Z",
     "iopub.status.idle": "2023-08-07T09:56:23.994137Z",
     "shell.execute_reply": "2023-08-07T09:56:23.993187Z"
    },
    "papermill": {
     "duration": 0.01661,
     "end_time": "2023-08-07T09:56:23.996643",
     "exception": false,
     "start_time": "2023-08-07T09:56:23.980033",
     "status": "completed"
    },
    "tags": []
   },
   "outputs": [],
   "source": [
    "#q4.hint()\n",
    "# q4.solution()"
   ]
  },
  {
   "cell_type": "markdown",
   "id": "ca49939a",
   "metadata": {
    "papermill": {
     "duration": 0.00754,
     "end_time": "2023-08-07T09:56:24.013154",
     "exception": false,
     "start_time": "2023-08-07T09:56:24.005614",
     "status": "completed"
    },
    "tags": []
   },
   "source": [
    "# Keep going\n",
    "\n",
    "Move on to **[renaming and combining](https://www.kaggle.com/residentmario/renaming-and-combining)**."
   ]
  },
  {
   "cell_type": "markdown",
   "id": "3a4658e9",
   "metadata": {
    "papermill": {
     "duration": 0.007339,
     "end_time": "2023-08-07T09:56:24.028389",
     "exception": false,
     "start_time": "2023-08-07T09:56:24.021050",
     "status": "completed"
    },
    "tags": []
   },
   "source": [
    "---\n",
    "\n",
    "\n",
    "\n",
    "\n",
    "*Have questions or comments? Visit the [course discussion forum](https://www.kaggle.com/learn/pandas/discussion) to chat with other learners.*"
   ]
  }
 ],
 "metadata": {
  "kernelspec": {
   "display_name": "Python 3",
   "language": "python",
   "name": "python3"
  },
  "language_info": {
   "codemirror_mode": {
    "name": "ipython",
    "version": 3
   },
   "file_extension": ".py",
   "mimetype": "text/x-python",
   "name": "python",
   "nbconvert_exporter": "python",
   "pygments_lexer": "ipython3",
   "version": "3.10.12"
  },
  "papermill": {
   "default_parameters": {},
   "duration": 20.022229,
   "end_time": "2023-08-07T09:56:26.361333",
   "environment_variables": {},
   "exception": null,
   "input_path": "__notebook__.ipynb",
   "output_path": "__notebook__.ipynb",
   "parameters": {},
   "start_time": "2023-08-07T09:56:06.339104",
   "version": "2.4.0"
  }
 },
 "nbformat": 4,
 "nbformat_minor": 5
}
