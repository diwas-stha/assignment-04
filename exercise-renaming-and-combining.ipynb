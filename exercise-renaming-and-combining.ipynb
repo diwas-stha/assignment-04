{
 "cells": [
  {
   "cell_type": "markdown",
   "id": "5a5ae833",
   "metadata": {
    "papermill": {
     "duration": 0.005325,
     "end_time": "2023-08-07T10:11:41.789716",
     "exception": false,
     "start_time": "2023-08-07T10:11:41.784391",
     "status": "completed"
    },
    "tags": []
   },
   "source": [
    "**This notebook is an exercise in the [Pandas](https://www.kaggle.com/learn/pandas) course.  You can reference the tutorial at [this link](https://www.kaggle.com/residentmario/renaming-and-combining).**\n",
    "\n",
    "---\n"
   ]
  },
  {
   "cell_type": "markdown",
   "id": "b3c4db86",
   "metadata": {
    "papermill": {
     "duration": 0.004715,
     "end_time": "2023-08-07T10:11:41.799837",
     "exception": false,
     "start_time": "2023-08-07T10:11:41.795122",
     "status": "completed"
    },
    "tags": []
   },
   "source": [
    "# Introduction\n",
    "\n",
    "Run the following cell to load your data and some utility functions."
   ]
  },
  {
   "cell_type": "code",
   "execution_count": 1,
   "id": "97357d7f",
   "metadata": {
    "execution": {
     "iopub.execute_input": "2023-08-07T10:11:41.812277Z",
     "iopub.status.busy": "2023-08-07T10:11:41.811565Z",
     "iopub.status.idle": "2023-08-07T10:11:46.248296Z",
     "shell.execute_reply": "2023-08-07T10:11:46.246939Z"
    },
    "papermill": {
     "duration": 4.446295,
     "end_time": "2023-08-07T10:11:46.251173",
     "exception": false,
     "start_time": "2023-08-07T10:11:41.804878",
     "status": "completed"
    },
    "tags": []
   },
   "outputs": [
    {
     "name": "stdout",
     "output_type": "stream",
     "text": [
      "Setup complete.\n"
     ]
    }
   ],
   "source": [
    "import pandas as pd\n",
    "\n",
    "reviews = pd.read_csv(\"../input/wine-reviews/winemag-data-130k-v2.csv\", index_col=0)\n",
    "\n",
    "from learntools.core import binder; binder.bind(globals())\n",
    "from learntools.pandas.renaming_and_combining import *\n",
    "print(\"Setup complete.\")"
   ]
  },
  {
   "cell_type": "markdown",
   "id": "ce86c6cf",
   "metadata": {
    "papermill": {
     "duration": 0.004824,
     "end_time": "2023-08-07T10:11:46.261185",
     "exception": false,
     "start_time": "2023-08-07T10:11:46.256361",
     "status": "completed"
    },
    "tags": []
   },
   "source": [
    "# Exercises\n",
    "\n",
    "View the first several lines of your data by running the cell below:"
   ]
  },
  {
   "cell_type": "code",
   "execution_count": 2,
   "id": "ee61f76c",
   "metadata": {
    "execution": {
     "iopub.execute_input": "2023-08-07T10:11:46.273433Z",
     "iopub.status.busy": "2023-08-07T10:11:46.272528Z",
     "iopub.status.idle": "2023-08-07T10:11:46.296866Z",
     "shell.execute_reply": "2023-08-07T10:11:46.295917Z"
    },
    "papermill": {
     "duration": 0.032947,
     "end_time": "2023-08-07T10:11:46.299197",
     "exception": false,
     "start_time": "2023-08-07T10:11:46.266250",
     "status": "completed"
    },
    "tags": []
   },
   "outputs": [
    {
     "data": {
      "text/html": [
       "<div>\n",
       "<style scoped>\n",
       "    .dataframe tbody tr th:only-of-type {\n",
       "        vertical-align: middle;\n",
       "    }\n",
       "\n",
       "    .dataframe tbody tr th {\n",
       "        vertical-align: top;\n",
       "    }\n",
       "\n",
       "    .dataframe thead th {\n",
       "        text-align: right;\n",
       "    }\n",
       "</style>\n",
       "<table border=\"1\" class=\"dataframe\">\n",
       "  <thead>\n",
       "    <tr style=\"text-align: right;\">\n",
       "      <th></th>\n",
       "      <th>country</th>\n",
       "      <th>description</th>\n",
       "      <th>designation</th>\n",
       "      <th>points</th>\n",
       "      <th>price</th>\n",
       "      <th>province</th>\n",
       "      <th>region_1</th>\n",
       "      <th>region_2</th>\n",
       "      <th>taster_name</th>\n",
       "      <th>taster_twitter_handle</th>\n",
       "      <th>title</th>\n",
       "      <th>variety</th>\n",
       "      <th>winery</th>\n",
       "    </tr>\n",
       "  </thead>\n",
       "  <tbody>\n",
       "    <tr>\n",
       "      <th>0</th>\n",
       "      <td>Italy</td>\n",
       "      <td>Aromas include tropical fruit, broom, brimston...</td>\n",
       "      <td>Vulkà Bianco</td>\n",
       "      <td>87</td>\n",
       "      <td>NaN</td>\n",
       "      <td>Sicily &amp; Sardinia</td>\n",
       "      <td>Etna</td>\n",
       "      <td>NaN</td>\n",
       "      <td>Kerin O’Keefe</td>\n",
       "      <td>@kerinokeefe</td>\n",
       "      <td>Nicosia 2013 Vulkà Bianco  (Etna)</td>\n",
       "      <td>White Blend</td>\n",
       "      <td>Nicosia</td>\n",
       "    </tr>\n",
       "    <tr>\n",
       "      <th>1</th>\n",
       "      <td>Portugal</td>\n",
       "      <td>This is ripe and fruity, a wine that is smooth...</td>\n",
       "      <td>Avidagos</td>\n",
       "      <td>87</td>\n",
       "      <td>15.0</td>\n",
       "      <td>Douro</td>\n",
       "      <td>NaN</td>\n",
       "      <td>NaN</td>\n",
       "      <td>Roger Voss</td>\n",
       "      <td>@vossroger</td>\n",
       "      <td>Quinta dos Avidagos 2011 Avidagos Red (Douro)</td>\n",
       "      <td>Portuguese Red</td>\n",
       "      <td>Quinta dos Avidagos</td>\n",
       "    </tr>\n",
       "    <tr>\n",
       "      <th>2</th>\n",
       "      <td>US</td>\n",
       "      <td>Tart and snappy, the flavors of lime flesh and...</td>\n",
       "      <td>NaN</td>\n",
       "      <td>87</td>\n",
       "      <td>14.0</td>\n",
       "      <td>Oregon</td>\n",
       "      <td>Willamette Valley</td>\n",
       "      <td>Willamette Valley</td>\n",
       "      <td>Paul Gregutt</td>\n",
       "      <td>@paulgwine</td>\n",
       "      <td>Rainstorm 2013 Pinot Gris (Willamette Valley)</td>\n",
       "      <td>Pinot Gris</td>\n",
       "      <td>Rainstorm</td>\n",
       "    </tr>\n",
       "    <tr>\n",
       "      <th>3</th>\n",
       "      <td>US</td>\n",
       "      <td>Pineapple rind, lemon pith and orange blossom ...</td>\n",
       "      <td>Reserve Late Harvest</td>\n",
       "      <td>87</td>\n",
       "      <td>13.0</td>\n",
       "      <td>Michigan</td>\n",
       "      <td>Lake Michigan Shore</td>\n",
       "      <td>NaN</td>\n",
       "      <td>Alexander Peartree</td>\n",
       "      <td>NaN</td>\n",
       "      <td>St. Julian 2013 Reserve Late Harvest Riesling ...</td>\n",
       "      <td>Riesling</td>\n",
       "      <td>St. Julian</td>\n",
       "    </tr>\n",
       "    <tr>\n",
       "      <th>4</th>\n",
       "      <td>US</td>\n",
       "      <td>Much like the regular bottling from 2012, this...</td>\n",
       "      <td>Vintner's Reserve Wild Child Block</td>\n",
       "      <td>87</td>\n",
       "      <td>65.0</td>\n",
       "      <td>Oregon</td>\n",
       "      <td>Willamette Valley</td>\n",
       "      <td>Willamette Valley</td>\n",
       "      <td>Paul Gregutt</td>\n",
       "      <td>@paulgwine</td>\n",
       "      <td>Sweet Cheeks 2012 Vintner's Reserve Wild Child...</td>\n",
       "      <td>Pinot Noir</td>\n",
       "      <td>Sweet Cheeks</td>\n",
       "    </tr>\n",
       "  </tbody>\n",
       "</table>\n",
       "</div>"
      ],
      "text/plain": [
       "    country                                        description  \\\n",
       "0     Italy  Aromas include tropical fruit, broom, brimston...   \n",
       "1  Portugal  This is ripe and fruity, a wine that is smooth...   \n",
       "2        US  Tart and snappy, the flavors of lime flesh and...   \n",
       "3        US  Pineapple rind, lemon pith and orange blossom ...   \n",
       "4        US  Much like the regular bottling from 2012, this...   \n",
       "\n",
       "                          designation  points  price           province  \\\n",
       "0                        Vulkà Bianco      87    NaN  Sicily & Sardinia   \n",
       "1                            Avidagos      87   15.0              Douro   \n",
       "2                                 NaN      87   14.0             Oregon   \n",
       "3                Reserve Late Harvest      87   13.0           Michigan   \n",
       "4  Vintner's Reserve Wild Child Block      87   65.0             Oregon   \n",
       "\n",
       "              region_1           region_2         taster_name  \\\n",
       "0                 Etna                NaN       Kerin O’Keefe   \n",
       "1                  NaN                NaN          Roger Voss   \n",
       "2    Willamette Valley  Willamette Valley        Paul Gregutt   \n",
       "3  Lake Michigan Shore                NaN  Alexander Peartree   \n",
       "4    Willamette Valley  Willamette Valley        Paul Gregutt   \n",
       "\n",
       "  taster_twitter_handle                                              title  \\\n",
       "0          @kerinokeefe                  Nicosia 2013 Vulkà Bianco  (Etna)   \n",
       "1            @vossroger      Quinta dos Avidagos 2011 Avidagos Red (Douro)   \n",
       "2           @paulgwine       Rainstorm 2013 Pinot Gris (Willamette Valley)   \n",
       "3                   NaN  St. Julian 2013 Reserve Late Harvest Riesling ...   \n",
       "4           @paulgwine   Sweet Cheeks 2012 Vintner's Reserve Wild Child...   \n",
       "\n",
       "          variety               winery  \n",
       "0     White Blend              Nicosia  \n",
       "1  Portuguese Red  Quinta dos Avidagos  \n",
       "2      Pinot Gris            Rainstorm  \n",
       "3        Riesling           St. Julian  \n",
       "4      Pinot Noir         Sweet Cheeks  "
      ]
     },
     "execution_count": 2,
     "metadata": {},
     "output_type": "execute_result"
    }
   ],
   "source": [
    "reviews.head()"
   ]
  },
  {
   "cell_type": "markdown",
   "id": "0116fbf3",
   "metadata": {
    "papermill": {
     "duration": 0.005226,
     "end_time": "2023-08-07T10:11:46.310057",
     "exception": false,
     "start_time": "2023-08-07T10:11:46.304831",
     "status": "completed"
    },
    "tags": []
   },
   "source": [
    "## 1.\n",
    "`region_1` and `region_2` are pretty uninformative names for locale columns in the dataset. Create a copy of `reviews` with these columns renamed to `region` and `locale`, respectively."
   ]
  },
  {
   "cell_type": "code",
   "execution_count": 3,
   "id": "e474a150",
   "metadata": {
    "execution": {
     "iopub.execute_input": "2023-08-07T10:11:46.323332Z",
     "iopub.status.busy": "2023-08-07T10:11:46.322357Z",
     "iopub.status.idle": "2023-08-07T10:11:46.344773Z",
     "shell.execute_reply": "2023-08-07T10:11:46.343528Z"
    },
    "papermill": {
     "duration": 0.031633,
     "end_time": "2023-08-07T10:11:46.347191",
     "exception": false,
     "start_time": "2023-08-07T10:11:46.315558",
     "status": "completed"
    },
    "tags": []
   },
   "outputs": [
    {
     "data": {
      "application/javascript": [
       "parent.postMessage({\"jupyterEvent\": \"custom.exercise_interaction\", \"data\": {\"outcomeType\": 1, \"valueTowardsCompletion\": 0.25, \"interactionType\": 1, \"questionType\": 1, \"questionId\": \"1_RenameCols\", \"learnToolsVersion\": \"0.3.4\", \"failureMessage\": \"\", \"exceptionClass\": \"\", \"trace\": \"\"}}, \"*\")"
      ],
      "text/plain": [
       "<IPython.core.display.Javascript object>"
      ]
     },
     "metadata": {},
     "output_type": "display_data"
    },
    {
     "data": {
      "text/markdown": [
       "<span style=\"color:#33cc33\">Correct</span>"
      ],
      "text/plain": [
       "Correct"
      ]
     },
     "metadata": {},
     "output_type": "display_data"
    }
   ],
   "source": [
    "# Your code here\n",
    "renamed = reviews.rename(columns={'region_1': 'region', 'region_2':'locale' })\n",
    "\n",
    "# Check your answer\n",
    "q1.check()"
   ]
  },
  {
   "cell_type": "code",
   "execution_count": 4,
   "id": "735f9fa6",
   "metadata": {
    "execution": {
     "iopub.execute_input": "2023-08-07T10:11:46.360281Z",
     "iopub.status.busy": "2023-08-07T10:11:46.359834Z",
     "iopub.status.idle": "2023-08-07T10:11:46.364539Z",
     "shell.execute_reply": "2023-08-07T10:11:46.363421Z"
    },
    "papermill": {
     "duration": 0.014236,
     "end_time": "2023-08-07T10:11:46.367134",
     "exception": false,
     "start_time": "2023-08-07T10:11:46.352898",
     "status": "completed"
    },
    "tags": []
   },
   "outputs": [],
   "source": [
    "#q1.hint()\n",
    "#q1.solution()"
   ]
  },
  {
   "cell_type": "markdown",
   "id": "ae3532fc",
   "metadata": {
    "papermill": {
     "duration": 0.005485,
     "end_time": "2023-08-07T10:11:46.379759",
     "exception": false,
     "start_time": "2023-08-07T10:11:46.374274",
     "status": "completed"
    },
    "tags": []
   },
   "source": [
    "## 2.\n",
    "Set the index name in the dataset to `wines`."
   ]
  },
  {
   "cell_type": "code",
   "execution_count": 5,
   "id": "6eccb176",
   "metadata": {
    "execution": {
     "iopub.execute_input": "2023-08-07T10:11:46.393109Z",
     "iopub.status.busy": "2023-08-07T10:11:46.392678Z",
     "iopub.status.idle": "2023-08-07T10:11:46.412449Z",
     "shell.execute_reply": "2023-08-07T10:11:46.411341Z"
    },
    "papermill": {
     "duration": 0.029198,
     "end_time": "2023-08-07T10:11:46.414717",
     "exception": false,
     "start_time": "2023-08-07T10:11:46.385519",
     "status": "completed"
    },
    "tags": []
   },
   "outputs": [
    {
     "data": {
      "application/javascript": [
       "parent.postMessage({\"jupyterEvent\": \"custom.exercise_interaction\", \"data\": {\"outcomeType\": 1, \"valueTowardsCompletion\": 0.25, \"interactionType\": 1, \"questionType\": 1, \"questionId\": \"2_RenameIndex\", \"learnToolsVersion\": \"0.3.4\", \"failureMessage\": \"\", \"exceptionClass\": \"\", \"trace\": \"\"}}, \"*\")"
      ],
      "text/plain": [
       "<IPython.core.display.Javascript object>"
      ]
     },
     "metadata": {},
     "output_type": "display_data"
    },
    {
     "data": {
      "text/markdown": [
       "<span style=\"color:#33cc33\">Correct</span>"
      ],
      "text/plain": [
       "Correct"
      ]
     },
     "metadata": {},
     "output_type": "display_data"
    }
   ],
   "source": [
    "reindexed = reviews.rename_axis(\"wines\", axis='rows')\n",
    "\n",
    "# Check your answer\n",
    "q2.check()"
   ]
  },
  {
   "cell_type": "code",
   "execution_count": 6,
   "id": "972e1a7c",
   "metadata": {
    "execution": {
     "iopub.execute_input": "2023-08-07T10:11:46.429523Z",
     "iopub.status.busy": "2023-08-07T10:11:46.428246Z",
     "iopub.status.idle": "2023-08-07T10:11:46.433495Z",
     "shell.execute_reply": "2023-08-07T10:11:46.432368Z"
    },
    "papermill": {
     "duration": 0.015055,
     "end_time": "2023-08-07T10:11:46.435891",
     "exception": false,
     "start_time": "2023-08-07T10:11:46.420836",
     "status": "completed"
    },
    "tags": []
   },
   "outputs": [],
   "source": [
    "#q2.hint()\n",
    "#q2.solution()"
   ]
  },
  {
   "cell_type": "markdown",
   "id": "d77934b0",
   "metadata": {
    "papermill": {
     "duration": 0.005803,
     "end_time": "2023-08-07T10:11:46.447905",
     "exception": false,
     "start_time": "2023-08-07T10:11:46.442102",
     "status": "completed"
    },
    "tags": []
   },
   "source": [
    "## 3.\n",
    "The [Things on Reddit](https://www.kaggle.com/residentmario/things-on-reddit/data) dataset includes product links from a selection of top-ranked forums (\"subreddits\") on reddit.com. Run the cell below to load a dataframe of products mentioned on the */r/gaming* subreddit and another dataframe for products mentioned on the *r//movies* subreddit."
   ]
  },
  {
   "cell_type": "code",
   "execution_count": 7,
   "id": "fffef352",
   "metadata": {
    "execution": {
     "iopub.execute_input": "2023-08-07T10:11:46.461755Z",
     "iopub.status.busy": "2023-08-07T10:11:46.461284Z",
     "iopub.status.idle": "2023-08-07T10:11:46.476430Z",
     "shell.execute_reply": "2023-08-07T10:11:46.475551Z"
    },
    "papermill": {
     "duration": 0.024908,
     "end_time": "2023-08-07T10:11:46.478825",
     "exception": false,
     "start_time": "2023-08-07T10:11:46.453917",
     "status": "completed"
    },
    "tags": []
   },
   "outputs": [],
   "source": [
    "gaming_products = pd.read_csv(\"../input/things-on-reddit/top-things/top-things/reddits/g/gaming.csv\")\n",
    "gaming_products['subreddit'] = \"r/gaming\"\n",
    "movie_products = pd.read_csv(\"../input/things-on-reddit/top-things/top-things/reddits/m/movies.csv\")\n",
    "movie_products['subreddit'] = \"r/movies\""
   ]
  },
  {
   "cell_type": "markdown",
   "id": "172502ea",
   "metadata": {
    "papermill": {
     "duration": 0.005783,
     "end_time": "2023-08-07T10:11:46.490596",
     "exception": false,
     "start_time": "2023-08-07T10:11:46.484813",
     "status": "completed"
    },
    "tags": []
   },
   "source": [
    "Create a `DataFrame` of products mentioned on *either* subreddit."
   ]
  },
  {
   "cell_type": "code",
   "execution_count": 8,
   "id": "9f95039c",
   "metadata": {
    "execution": {
     "iopub.execute_input": "2023-08-07T10:11:46.504434Z",
     "iopub.status.busy": "2023-08-07T10:11:46.504024Z",
     "iopub.status.idle": "2023-08-07T10:11:46.516784Z",
     "shell.execute_reply": "2023-08-07T10:11:46.515762Z"
    },
    "papermill": {
     "duration": 0.022279,
     "end_time": "2023-08-07T10:11:46.518967",
     "exception": false,
     "start_time": "2023-08-07T10:11:46.496688",
     "status": "completed"
    },
    "tags": []
   },
   "outputs": [
    {
     "data": {
      "application/javascript": [
       "parent.postMessage({\"jupyterEvent\": \"custom.exercise_interaction\", \"data\": {\"outcomeType\": 1, \"valueTowardsCompletion\": 0.25, \"interactionType\": 1, \"questionType\": 2, \"questionId\": \"3_ConcatReddit\", \"learnToolsVersion\": \"0.3.4\", \"failureMessage\": \"\", \"exceptionClass\": \"\", \"trace\": \"\"}}, \"*\")"
      ],
      "text/plain": [
       "<IPython.core.display.Javascript object>"
      ]
     },
     "metadata": {},
     "output_type": "display_data"
    },
    {
     "data": {
      "text/markdown": [
       "<span style=\"color:#33cc33\">Correct</span>"
      ],
      "text/plain": [
       "Correct"
      ]
     },
     "metadata": {},
     "output_type": "display_data"
    }
   ],
   "source": [
    "combined_products = pd.concat([gaming_products, movie_products])\n",
    "\n",
    "# Check your answer\n",
    "q3.check()"
   ]
  },
  {
   "cell_type": "code",
   "execution_count": 9,
   "id": "65ea9853",
   "metadata": {
    "execution": {
     "iopub.execute_input": "2023-08-07T10:11:46.533141Z",
     "iopub.status.busy": "2023-08-07T10:11:46.532704Z",
     "iopub.status.idle": "2023-08-07T10:11:46.537586Z",
     "shell.execute_reply": "2023-08-07T10:11:46.536409Z"
    },
    "papermill": {
     "duration": 0.014601,
     "end_time": "2023-08-07T10:11:46.539831",
     "exception": false,
     "start_time": "2023-08-07T10:11:46.525230",
     "status": "completed"
    },
    "tags": []
   },
   "outputs": [],
   "source": [
    "#q3.hint()\n",
    "#q3.solution()"
   ]
  },
  {
   "cell_type": "markdown",
   "id": "6e44e161",
   "metadata": {
    "papermill": {
     "duration": 0.005884,
     "end_time": "2023-08-07T10:11:46.552162",
     "exception": false,
     "start_time": "2023-08-07T10:11:46.546278",
     "status": "completed"
    },
    "tags": []
   },
   "source": [
    "## 4.\n",
    "The [Powerlifting Database](https://www.kaggle.com/open-powerlifting/powerlifting-database) dataset on Kaggle includes one CSV table for powerlifting meets and a separate one for powerlifting competitors. Run the cell below to load these datasets into dataframes:"
   ]
  },
  {
   "cell_type": "code",
   "execution_count": 10,
   "id": "8d505bef",
   "metadata": {
    "execution": {
     "iopub.execute_input": "2023-08-07T10:11:46.567958Z",
     "iopub.status.busy": "2023-08-07T10:11:46.567530Z",
     "iopub.status.idle": "2023-08-07T10:11:47.418696Z",
     "shell.execute_reply": "2023-08-07T10:11:47.417549Z"
    },
    "papermill": {
     "duration": 0.861226,
     "end_time": "2023-08-07T10:11:47.421122",
     "exception": false,
     "start_time": "2023-08-07T10:11:46.559896",
     "status": "completed"
    },
    "tags": []
   },
   "outputs": [],
   "source": [
    "powerlifting_meets = pd.read_csv(\"../input/powerlifting-database/meets.csv\")\n",
    "powerlifting_competitors = pd.read_csv(\"../input/powerlifting-database/openpowerlifting.csv\")"
   ]
  },
  {
   "cell_type": "markdown",
   "id": "2e4514b3",
   "metadata": {
    "papermill": {
     "duration": 0.006022,
     "end_time": "2023-08-07T10:11:47.433472",
     "exception": false,
     "start_time": "2023-08-07T10:11:47.427450",
     "status": "completed"
    },
    "tags": []
   },
   "source": [
    "Both tables include references to a `MeetID`, a unique key for each meet (competition) included in the database. Using this, generate a dataset combining the two tables into one."
   ]
  },
  {
   "cell_type": "code",
   "execution_count": 11,
   "id": "27fa700c",
   "metadata": {
    "execution": {
     "iopub.execute_input": "2023-08-07T10:11:47.447302Z",
     "iopub.status.busy": "2023-08-07T10:11:47.446902Z",
     "iopub.status.idle": "2023-08-07T10:11:48.625102Z",
     "shell.execute_reply": "2023-08-07T10:11:48.624123Z"
    },
    "papermill": {
     "duration": 1.187826,
     "end_time": "2023-08-07T10:11:48.627461",
     "exception": false,
     "start_time": "2023-08-07T10:11:47.439635",
     "status": "completed"
    },
    "tags": []
   },
   "outputs": [
    {
     "data": {
      "application/javascript": [
       "parent.postMessage({\"jupyterEvent\": \"custom.exercise_interaction\", \"data\": {\"outcomeType\": 1, \"valueTowardsCompletion\": 0.25, \"interactionType\": 1, \"questionType\": 2, \"questionId\": \"4_JoinLifting\", \"learnToolsVersion\": \"0.3.4\", \"failureMessage\": \"\", \"exceptionClass\": \"\", \"trace\": \"\"}}, \"*\")"
      ],
      "text/plain": [
       "<IPython.core.display.Javascript object>"
      ]
     },
     "metadata": {},
     "output_type": "display_data"
    },
    {
     "data": {
      "text/markdown": [
       "<span style=\"color:#33cc33\">Correct</span>"
      ],
      "text/plain": [
       "Correct"
      ]
     },
     "metadata": {},
     "output_type": "display_data"
    }
   ],
   "source": [
    "left = powerlifting_meets.set_index(\"MeetID\")\n",
    "right = powerlifting_competitors.set_index(\"MeetID\")\n",
    "\n",
    "powerlifting_combined = left.join(right, lsuffix = '_meets', rsuffix='_competitors')\n",
    "\n",
    "# Check your answer\n",
    "q4.check()"
   ]
  },
  {
   "cell_type": "code",
   "execution_count": 12,
   "id": "136aca72",
   "metadata": {
    "execution": {
     "iopub.execute_input": "2023-08-07T10:11:48.642270Z",
     "iopub.status.busy": "2023-08-07T10:11:48.641839Z",
     "iopub.status.idle": "2023-08-07T10:11:48.646262Z",
     "shell.execute_reply": "2023-08-07T10:11:48.645210Z"
    },
    "papermill": {
     "duration": 0.014882,
     "end_time": "2023-08-07T10:11:48.648767",
     "exception": false,
     "start_time": "2023-08-07T10:11:48.633885",
     "status": "completed"
    },
    "tags": []
   },
   "outputs": [],
   "source": [
    "#q4.hint()\n",
    "#q4.solution()"
   ]
  },
  {
   "cell_type": "markdown",
   "id": "681b320f",
   "metadata": {
    "papermill": {
     "duration": 0.00623,
     "end_time": "2023-08-07T10:11:48.661589",
     "exception": false,
     "start_time": "2023-08-07T10:11:48.655359",
     "status": "completed"
    },
    "tags": []
   },
   "source": [
    "# Congratulations!\n",
    "\n",
    "You've finished the Pandas micro-course.  Many data scientists feel efficiency with Pandas is the most useful and practical skill they have, because it allows you to progress quickly in any project you have.\n",
    "\n",
    "If you'd like to apply your new skills to examining geospatial data, you're encouraged to check out our **[Geospatial Analysis](https://www.kaggle.com/learn/geospatial-analysis)** micro-course.\n",
    "\n",
    "You can also take advantage of your Pandas skills by entering a **[Kaggle Competition](https://www.kaggle.com/competitions)** or by answering a question you find interesting using **[Kaggle Datasets](https://www.kaggle.com/datasets)**."
   ]
  },
  {
   "cell_type": "markdown",
   "id": "c257e51c",
   "metadata": {
    "papermill": {
     "duration": 0.006088,
     "end_time": "2023-08-07T10:11:48.674256",
     "exception": false,
     "start_time": "2023-08-07T10:11:48.668168",
     "status": "completed"
    },
    "tags": []
   },
   "source": [
    "---\n",
    "\n",
    "\n",
    "\n",
    "\n",
    "*Have questions or comments? Visit the [course discussion forum](https://www.kaggle.com/learn/pandas/discussion) to chat with other learners.*"
   ]
  }
 ],
 "metadata": {
  "kernelspec": {
   "display_name": "Python 3",
   "language": "python",
   "name": "python3"
  },
  "language_info": {
   "codemirror_mode": {
    "name": "ipython",
    "version": 3
   },
   "file_extension": ".py",
   "mimetype": "text/x-python",
   "name": "python",
   "nbconvert_exporter": "python",
   "pygments_lexer": "ipython3",
   "version": "3.10.12"
  },
  "papermill": {
   "default_parameters": {},
   "duration": 18.104503,
   "end_time": "2023-08-07T10:11:49.703621",
   "environment_variables": {},
   "exception": null,
   "input_path": "__notebook__.ipynb",
   "output_path": "__notebook__.ipynb",
   "parameters": {},
   "start_time": "2023-08-07T10:11:31.599118",
   "version": "2.4.0"
  }
 },
 "nbformat": 4,
 "nbformat_minor": 5
}
