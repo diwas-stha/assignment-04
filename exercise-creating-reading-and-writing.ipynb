{
 "cells": [
  {
   "cell_type": "markdown",
   "id": "ffe3aa8c",
   "metadata": {
    "papermill": {
     "duration": 0.005084,
     "end_time": "2023-08-07T06:41:03.291548",
     "exception": false,
     "start_time": "2023-08-07T06:41:03.286464",
     "status": "completed"
    },
    "tags": []
   },
   "source": [
    "**This notebook is an exercise in the [Pandas](https://www.kaggle.com/learn/pandas) course.  You can reference the tutorial at [this link](https://www.kaggle.com/residentmario/creating-reading-and-writing).**\n",
    "\n",
    "---\n"
   ]
  },
  {
   "cell_type": "markdown",
   "id": "085f4582",
   "metadata": {
    "papermill": {
     "duration": 0.004136,
     "end_time": "2023-08-07T06:41:03.300311",
     "exception": false,
     "start_time": "2023-08-07T06:41:03.296175",
     "status": "completed"
    },
    "tags": []
   },
   "source": [
    "# Introduction\n",
    "\n",
    "The first step in most data analytics projects is reading the data file. In this exercise, you'll create Series and DataFrame objects, both by hand and by reading data files.\n",
    "\n",
    "Run the code cell below to load libraries you will need (including code to check your answers)."
   ]
  },
  {
   "cell_type": "code",
   "execution_count": 1,
   "id": "beb7ccdc",
   "metadata": {
    "execution": {
     "iopub.execute_input": "2023-08-07T06:41:03.310733Z",
     "iopub.status.busy": "2023-08-07T06:41:03.310287Z",
     "iopub.status.idle": "2023-08-07T06:41:04.863122Z",
     "shell.execute_reply": "2023-08-07T06:41:04.862064Z"
    },
    "papermill": {
     "duration": 1.560857,
     "end_time": "2023-08-07T06:41:04.865560",
     "exception": false,
     "start_time": "2023-08-07T06:41:03.304703",
     "status": "completed"
    },
    "tags": []
   },
   "outputs": [
    {
     "name": "stdout",
     "output_type": "stream",
     "text": [
      "Setup complete.\n"
     ]
    }
   ],
   "source": [
    "import pandas as pd\n",
    "pd.set_option('display.max_rows', 5)\n",
    "from learntools.core import binder; binder.bind(globals())\n",
    "from learntools.pandas.creating_reading_and_writing import *\n",
    "print(\"Setup complete.\")"
   ]
  },
  {
   "cell_type": "markdown",
   "id": "9089fec8",
   "metadata": {
    "papermill": {
     "duration": 0.004375,
     "end_time": "2023-08-07T06:41:04.875533",
     "exception": false,
     "start_time": "2023-08-07T06:41:04.871158",
     "status": "completed"
    },
    "tags": []
   },
   "source": [
    "# Exercises"
   ]
  },
  {
   "cell_type": "markdown",
   "id": "90815364",
   "metadata": {
    "papermill": {
     "duration": 0.004171,
     "end_time": "2023-08-07T06:41:04.884213",
     "exception": false,
     "start_time": "2023-08-07T06:41:04.880042",
     "status": "completed"
    },
    "tags": []
   },
   "source": [
    "## 1.\n",
    "\n",
    "In the cell below, create a DataFrame `fruits` that looks like this:\n",
    "\n",
    "![](https://storage.googleapis.com/kaggle-media/learn/images/Ax3pp2A.png)"
   ]
  },
  {
   "cell_type": "code",
   "execution_count": 2,
   "id": "dec83a58",
   "metadata": {
    "execution": {
     "iopub.execute_input": "2023-08-07T06:41:04.894858Z",
     "iopub.status.busy": "2023-08-07T06:41:04.894412Z",
     "iopub.status.idle": "2023-08-07T06:41:04.916612Z",
     "shell.execute_reply": "2023-08-07T06:41:04.915644Z"
    },
    "papermill": {
     "duration": 0.029963,
     "end_time": "2023-08-07T06:41:04.918596",
     "exception": false,
     "start_time": "2023-08-07T06:41:04.888633",
     "status": "completed"
    },
    "tags": []
   },
   "outputs": [
    {
     "data": {
      "application/javascript": [
       "parent.postMessage({\"jupyterEvent\": \"custom.exercise_interaction\", \"data\": {\"outcomeType\": 1, \"valueTowardsCompletion\": 0.16666666666666666, \"interactionType\": 1, \"questionType\": 1, \"questionId\": \"1_FruitDfCreation\", \"learnToolsVersion\": \"0.3.4\", \"failureMessage\": \"\", \"exceptionClass\": \"\", \"trace\": \"\"}}, \"*\")"
      ],
      "text/plain": [
       "<IPython.core.display.Javascript object>"
      ]
     },
     "metadata": {},
     "output_type": "display_data"
    },
    {
     "data": {
      "text/markdown": [
       "<span style=\"color:#33cc33\">Correct</span>"
      ],
      "text/plain": [
       "Correct"
      ]
     },
     "metadata": {},
     "output_type": "display_data"
    },
    {
     "data": {
      "text/html": [
       "<div>\n",
       "<style scoped>\n",
       "    .dataframe tbody tr th:only-of-type {\n",
       "        vertical-align: middle;\n",
       "    }\n",
       "\n",
       "    .dataframe tbody tr th {\n",
       "        vertical-align: top;\n",
       "    }\n",
       "\n",
       "    .dataframe thead th {\n",
       "        text-align: right;\n",
       "    }\n",
       "</style>\n",
       "<table border=\"1\" class=\"dataframe\">\n",
       "  <thead>\n",
       "    <tr style=\"text-align: right;\">\n",
       "      <th></th>\n",
       "      <th>Apples</th>\n",
       "      <th>Bananas</th>\n",
       "    </tr>\n",
       "  </thead>\n",
       "  <tbody>\n",
       "    <tr>\n",
       "      <th>0</th>\n",
       "      <td>30</td>\n",
       "      <td>21</td>\n",
       "    </tr>\n",
       "  </tbody>\n",
       "</table>\n",
       "</div>"
      ],
      "text/plain": [
       "   Apples  Bananas\n",
       "0      30       21"
      ]
     },
     "execution_count": 2,
     "metadata": {},
     "output_type": "execute_result"
    }
   ],
   "source": [
    "# Your code goes here. Create a dataframe matching the above diagram and assign it to the variable fruits.\n",
    "fruits = pd.DataFrame({\"Apples\": [30], \"Bananas\": [21]})\n",
    "\n",
    "# Check your answer\n",
    "q1.check()\n",
    "fruits"
   ]
  },
  {
   "cell_type": "code",
   "execution_count": 3,
   "id": "857fd186",
   "metadata": {
    "execution": {
     "iopub.execute_input": "2023-08-07T06:41:04.929871Z",
     "iopub.status.busy": "2023-08-07T06:41:04.929496Z",
     "iopub.status.idle": "2023-08-07T06:41:04.933850Z",
     "shell.execute_reply": "2023-08-07T06:41:04.933076Z"
    },
    "papermill": {
     "duration": 0.012155,
     "end_time": "2023-08-07T06:41:04.935687",
     "exception": false,
     "start_time": "2023-08-07T06:41:04.923532",
     "status": "completed"
    },
    "tags": []
   },
   "outputs": [],
   "source": [
    "#q1.hint()\n",
    "#q1.solution()"
   ]
  },
  {
   "cell_type": "markdown",
   "id": "5abca111",
   "metadata": {
    "papermill": {
     "duration": 0.004552,
     "end_time": "2023-08-07T06:41:04.945237",
     "exception": false,
     "start_time": "2023-08-07T06:41:04.940685",
     "status": "completed"
    },
    "tags": []
   },
   "source": [
    "## 2.\n",
    "\n",
    "Create a dataframe `fruit_sales` that matches the diagram below:\n",
    "\n",
    "![](https://storage.googleapis.com/kaggle-media/learn/images/CHPn7ZF.png)"
   ]
  },
  {
   "cell_type": "code",
   "execution_count": 4,
   "id": "2e15a273",
   "metadata": {
    "execution": {
     "iopub.execute_input": "2023-08-07T06:41:04.957627Z",
     "iopub.status.busy": "2023-08-07T06:41:04.957276Z",
     "iopub.status.idle": "2023-08-07T06:41:04.967267Z",
     "shell.execute_reply": "2023-08-07T06:41:04.966207Z"
    },
    "papermill": {
     "duration": 0.019408,
     "end_time": "2023-08-07T06:41:04.969348",
     "exception": false,
     "start_time": "2023-08-07T06:41:04.949940",
     "status": "completed"
    },
    "tags": []
   },
   "outputs": [
    {
     "data": {
      "application/javascript": [
       "parent.postMessage({\"jupyterEvent\": \"custom.exercise_interaction\", \"data\": {\"outcomeType\": 4, \"interactionType\": 1, \"questionType\": 1, \"questionId\": \"2_FruitSalesDfCreation\", \"learnToolsVersion\": \"0.3.4\", \"valueTowardsCompletion\": 0.0, \"failureMessage\": \"\", \"exceptionClass\": \"\", \"trace\": \"\"}}, \"*\")"
      ],
      "text/plain": [
       "<IPython.core.display.Javascript object>"
      ]
     },
     "metadata": {},
     "output_type": "display_data"
    },
    {
     "data": {
      "text/markdown": [
       "<span style=\"color:#ccaa33\">Check:</span> When you've updated the starter code, `check()` will tell you whether your code is correct. You need to update the code that creates variable `fruit_sales`"
      ],
      "text/plain": [
       "Check: When you've updated the starter code, `check()` will tell you whether your code is correct. You need to update the code that creates variable `fruit_sales`"
      ]
     },
     "metadata": {},
     "output_type": "display_data"
    },
    {
     "data": {
      "text/markdown": [],
      "text/plain": [
       "<learntools.core.constants.PlaceholderValue at 0x79415885eda0>"
      ]
     },
     "execution_count": 4,
     "metadata": {},
     "output_type": "execute_result"
    }
   ],
   "source": [
    "# Your code goes here. Create a dataframe matching the above diagram and assign it to the variable fruit_sales.\n",
    "fruit_sales = ____\n",
    "\n",
    "# Check your answer\n",
    "q2.check()\n",
    "fruit_sales"
   ]
  },
  {
   "cell_type": "code",
   "execution_count": 5,
   "id": "840414b8",
   "metadata": {
    "execution": {
     "iopub.execute_input": "2023-08-07T06:41:04.981466Z",
     "iopub.status.busy": "2023-08-07T06:41:04.981082Z",
     "iopub.status.idle": "2023-08-07T06:41:04.985542Z",
     "shell.execute_reply": "2023-08-07T06:41:04.984505Z"
    },
    "papermill": {
     "duration": 0.013015,
     "end_time": "2023-08-07T06:41:04.987710",
     "exception": false,
     "start_time": "2023-08-07T06:41:04.974695",
     "status": "completed"
    },
    "tags": []
   },
   "outputs": [],
   "source": [
    "#q2.hint()\n",
    "#q2.solution()"
   ]
  },
  {
   "cell_type": "markdown",
   "id": "5274c160",
   "metadata": {
    "papermill": {
     "duration": 0.005057,
     "end_time": "2023-08-07T06:41:04.998219",
     "exception": false,
     "start_time": "2023-08-07T06:41:04.993162",
     "status": "completed"
    },
    "tags": []
   },
   "source": [
    "## 3.\n",
    "\n",
    "Create a variable `ingredients` with a Series that looks like:\n",
    "\n",
    "```\n",
    "Flour     4 cups\n",
    "Milk       1 cup\n",
    "Eggs     2 large\n",
    "Spam       1 can\n",
    "Name: Dinner, dtype: object\n",
    "```"
   ]
  },
  {
   "cell_type": "code",
   "execution_count": 6,
   "id": "0b65f305",
   "metadata": {
    "execution": {
     "iopub.execute_input": "2023-08-07T06:41:05.010345Z",
     "iopub.status.busy": "2023-08-07T06:41:05.009901Z",
     "iopub.status.idle": "2023-08-07T06:41:05.021106Z",
     "shell.execute_reply": "2023-08-07T06:41:05.019907Z"
    },
    "papermill": {
     "duration": 0.020116,
     "end_time": "2023-08-07T06:41:05.023564",
     "exception": false,
     "start_time": "2023-08-07T06:41:05.003448",
     "status": "completed"
    },
    "tags": []
   },
   "outputs": [
    {
     "data": {
      "application/javascript": [
       "parent.postMessage({\"jupyterEvent\": \"custom.exercise_interaction\", \"data\": {\"outcomeType\": 4, \"interactionType\": 1, \"questionType\": 2, \"questionId\": \"3_RecipeSeriesCreation\", \"learnToolsVersion\": \"0.3.4\", \"valueTowardsCompletion\": 0.0, \"failureMessage\": \"\", \"exceptionClass\": \"\", \"trace\": \"\"}}, \"*\")"
      ],
      "text/plain": [
       "<IPython.core.display.Javascript object>"
      ]
     },
     "metadata": {},
     "output_type": "display_data"
    },
    {
     "data": {
      "text/markdown": [
       "<span style=\"color:#ccaa33\">Check:</span> When you've updated the starter code, `check()` will tell you whether your code is correct. You need to update the code that creates variable `ingredients`"
      ],
      "text/plain": [
       "Check: When you've updated the starter code, `check()` will tell you whether your code is correct. You need to update the code that creates variable `ingredients`"
      ]
     },
     "metadata": {},
     "output_type": "display_data"
    },
    {
     "data": {
      "text/markdown": [],
      "text/plain": [
       "<learntools.core.constants.PlaceholderValue at 0x79415885eda0>"
      ]
     },
     "execution_count": 6,
     "metadata": {},
     "output_type": "execute_result"
    }
   ],
   "source": [
    "ingredients = ____\n",
    "\n",
    "# Check your answer\n",
    "q3.check()\n",
    "ingredients"
   ]
  },
  {
   "cell_type": "code",
   "execution_count": 7,
   "id": "c3b68eff",
   "metadata": {
    "execution": {
     "iopub.execute_input": "2023-08-07T06:41:05.036766Z",
     "iopub.status.busy": "2023-08-07T06:41:05.036374Z",
     "iopub.status.idle": "2023-08-07T06:41:05.041330Z",
     "shell.execute_reply": "2023-08-07T06:41:05.040042Z"
    },
    "papermill": {
     "duration": 0.01409,
     "end_time": "2023-08-07T06:41:05.043411",
     "exception": false,
     "start_time": "2023-08-07T06:41:05.029321",
     "status": "completed"
    },
    "tags": []
   },
   "outputs": [],
   "source": [
    "#q3.hint()\n",
    "#q3.solution()"
   ]
  },
  {
   "cell_type": "markdown",
   "id": "24abf35d",
   "metadata": {
    "papermill": {
     "duration": 0.005581,
     "end_time": "2023-08-07T06:41:05.055085",
     "exception": false,
     "start_time": "2023-08-07T06:41:05.049504",
     "status": "completed"
    },
    "tags": []
   },
   "source": [
    "## 4.\n",
    "\n",
    "Read the following csv dataset of wine reviews into a DataFrame called `reviews`:\n",
    "\n",
    "![](https://storage.googleapis.com/kaggle-media/learn/images/74RCZtU.png)\n",
    "\n",
    "The filepath to the csv file is `../input/wine-reviews/winemag-data_first150k.csv`. The first few lines look like:\n",
    "\n",
    "```\n",
    ",country,description,designation,points,price,province,region_1,region_2,variety,winery\n",
    "0,US,\"This tremendous 100% varietal wine[...]\",Martha's Vineyard,96,235.0,California,Napa Valley,Napa,Cabernet Sauvignon,Heitz\n",
    "1,Spain,\"Ripe aromas of fig, blackberry and[...]\",Carodorum Selección Especial Reserva,96,110.0,Northern Spain,Toro,,Tinta de Toro,Bodega Carmen Rodríguez\n",
    "```"
   ]
  },
  {
   "cell_type": "code",
   "execution_count": 8,
   "id": "e031be65",
   "metadata": {
    "execution": {
     "iopub.execute_input": "2023-08-07T06:41:05.068597Z",
     "iopub.status.busy": "2023-08-07T06:41:05.068209Z",
     "iopub.status.idle": "2023-08-07T06:41:05.078377Z",
     "shell.execute_reply": "2023-08-07T06:41:05.077297Z"
    },
    "papermill": {
     "duration": 0.019353,
     "end_time": "2023-08-07T06:41:05.080395",
     "exception": false,
     "start_time": "2023-08-07T06:41:05.061042",
     "status": "completed"
    },
    "tags": []
   },
   "outputs": [
    {
     "data": {
      "application/javascript": [
       "parent.postMessage({\"jupyterEvent\": \"custom.exercise_interaction\", \"data\": {\"outcomeType\": 4, \"interactionType\": 1, \"questionType\": 1, \"questionId\": \"4_ReadWineCsv\", \"learnToolsVersion\": \"0.3.4\", \"valueTowardsCompletion\": 0.0, \"failureMessage\": \"\", \"exceptionClass\": \"\", \"trace\": \"\"}}, \"*\")"
      ],
      "text/plain": [
       "<IPython.core.display.Javascript object>"
      ]
     },
     "metadata": {},
     "output_type": "display_data"
    },
    {
     "data": {
      "text/markdown": [
       "<span style=\"color:#ccaa33\">Check:</span> When you've updated the starter code, `check()` will tell you whether your code is correct. You need to update the code that creates variable `reviews`"
      ],
      "text/plain": [
       "Check: When you've updated the starter code, `check()` will tell you whether your code is correct. You need to update the code that creates variable `reviews`"
      ]
     },
     "metadata": {},
     "output_type": "display_data"
    },
    {
     "data": {
      "text/markdown": [],
      "text/plain": [
       "<learntools.core.constants.PlaceholderValue at 0x79415885eda0>"
      ]
     },
     "execution_count": 8,
     "metadata": {},
     "output_type": "execute_result"
    }
   ],
   "source": [
    "reviews = ____\n",
    "\n",
    "# Check your answer\n",
    "q4.check()\n",
    "reviews"
   ]
  },
  {
   "cell_type": "code",
   "execution_count": 9,
   "id": "aa40139f",
   "metadata": {
    "execution": {
     "iopub.execute_input": "2023-08-07T06:41:05.094491Z",
     "iopub.status.busy": "2023-08-07T06:41:05.094109Z",
     "iopub.status.idle": "2023-08-07T06:41:05.098473Z",
     "shell.execute_reply": "2023-08-07T06:41:05.097349Z"
    },
    "papermill": {
     "duration": 0.013977,
     "end_time": "2023-08-07T06:41:05.100540",
     "exception": false,
     "start_time": "2023-08-07T06:41:05.086563",
     "status": "completed"
    },
    "tags": []
   },
   "outputs": [],
   "source": [
    "#q4.hint()\n",
    "#q4.solution()"
   ]
  },
  {
   "cell_type": "markdown",
   "id": "3e02c4e4",
   "metadata": {
    "papermill": {
     "duration": 0.006725,
     "end_time": "2023-08-07T06:41:05.114076",
     "exception": false,
     "start_time": "2023-08-07T06:41:05.107351",
     "status": "completed"
    },
    "tags": []
   },
   "source": [
    "## 5.\n",
    "\n",
    "Run the cell below to create and display a DataFrame called `animals`:"
   ]
  },
  {
   "cell_type": "code",
   "execution_count": 10,
   "id": "93e709eb",
   "metadata": {
    "execution": {
     "iopub.execute_input": "2023-08-07T06:41:05.128182Z",
     "iopub.status.busy": "2023-08-07T06:41:05.127755Z",
     "iopub.status.idle": "2023-08-07T06:41:05.137876Z",
     "shell.execute_reply": "2023-08-07T06:41:05.136816Z"
    },
    "papermill": {
     "duration": 0.019708,
     "end_time": "2023-08-07T06:41:05.139968",
     "exception": false,
     "start_time": "2023-08-07T06:41:05.120260",
     "status": "completed"
    },
    "tags": []
   },
   "outputs": [
    {
     "data": {
      "text/html": [
       "<div>\n",
       "<style scoped>\n",
       "    .dataframe tbody tr th:only-of-type {\n",
       "        vertical-align: middle;\n",
       "    }\n",
       "\n",
       "    .dataframe tbody tr th {\n",
       "        vertical-align: top;\n",
       "    }\n",
       "\n",
       "    .dataframe thead th {\n",
       "        text-align: right;\n",
       "    }\n",
       "</style>\n",
       "<table border=\"1\" class=\"dataframe\">\n",
       "  <thead>\n",
       "    <tr style=\"text-align: right;\">\n",
       "      <th></th>\n",
       "      <th>Cows</th>\n",
       "      <th>Goats</th>\n",
       "    </tr>\n",
       "  </thead>\n",
       "  <tbody>\n",
       "    <tr>\n",
       "      <th>Year 1</th>\n",
       "      <td>12</td>\n",
       "      <td>22</td>\n",
       "    </tr>\n",
       "    <tr>\n",
       "      <th>Year 2</th>\n",
       "      <td>20</td>\n",
       "      <td>19</td>\n",
       "    </tr>\n",
       "  </tbody>\n",
       "</table>\n",
       "</div>"
      ],
      "text/plain": [
       "        Cows  Goats\n",
       "Year 1    12     22\n",
       "Year 2    20     19"
      ]
     },
     "execution_count": 10,
     "metadata": {},
     "output_type": "execute_result"
    }
   ],
   "source": [
    "animals = pd.DataFrame({'Cows': [12, 20], 'Goats': [22, 19]}, index=['Year 1', 'Year 2'])\n",
    "animals"
   ]
  },
  {
   "cell_type": "markdown",
   "id": "ae6c5174",
   "metadata": {
    "papermill": {
     "duration": 0.006273,
     "end_time": "2023-08-07T06:41:05.152797",
     "exception": false,
     "start_time": "2023-08-07T06:41:05.146524",
     "status": "completed"
    },
    "tags": []
   },
   "source": [
    "In the cell below, write code to save this DataFrame to disk as a csv file with the name `cows_and_goats.csv`."
   ]
  },
  {
   "cell_type": "code",
   "execution_count": 11,
   "id": "8d564788",
   "metadata": {
    "execution": {
     "iopub.execute_input": "2023-08-07T06:41:05.167270Z",
     "iopub.status.busy": "2023-08-07T06:41:05.166892Z",
     "iopub.status.idle": "2023-08-07T06:41:05.173153Z",
     "shell.execute_reply": "2023-08-07T06:41:05.172443Z"
    },
    "papermill": {
     "duration": 0.015805,
     "end_time": "2023-08-07T06:41:05.174904",
     "exception": false,
     "start_time": "2023-08-07T06:41:05.159099",
     "status": "completed"
    },
    "tags": []
   },
   "outputs": [
    {
     "data": {
      "application/javascript": [
       "parent.postMessage({\"jupyterEvent\": \"custom.exercise_interaction\", \"data\": {\"outcomeType\": 2, \"failureMessage\": \"Expected file to exist with name `cows_and_goats.csv`\", \"interactionType\": 1, \"questionType\": 2, \"questionId\": \"5_SaveAnimalsCsv\", \"learnToolsVersion\": \"0.3.4\", \"valueTowardsCompletion\": 0.0, \"exceptionClass\": \"\", \"trace\": \"\"}}, \"*\")"
      ],
      "text/plain": [
       "<IPython.core.display.Javascript object>"
      ]
     },
     "metadata": {},
     "output_type": "display_data"
    },
    {
     "data": {
      "text/markdown": [
       "<span style=\"color:#cc3333\">Incorrect:</span> Expected file to exist with name `cows_and_goats.csv`"
      ],
      "text/plain": [
       "Incorrect: Expected file to exist with name `cows_and_goats.csv`"
      ]
     },
     "metadata": {},
     "output_type": "display_data"
    }
   ],
   "source": [
    "# Your code goes here\n",
    "\n",
    "# Check your answer\n",
    "q5.check()"
   ]
  },
  {
   "cell_type": "code",
   "execution_count": 12,
   "id": "11648390",
   "metadata": {
    "execution": {
     "iopub.execute_input": "2023-08-07T06:41:05.190397Z",
     "iopub.status.busy": "2023-08-07T06:41:05.189789Z",
     "iopub.status.idle": "2023-08-07T06:41:05.193312Z",
     "shell.execute_reply": "2023-08-07T06:41:05.192543Z"
    },
    "papermill": {
     "duration": 0.013461,
     "end_time": "2023-08-07T06:41:05.195155",
     "exception": false,
     "start_time": "2023-08-07T06:41:05.181694",
     "status": "completed"
    },
    "tags": []
   },
   "outputs": [],
   "source": [
    "#q5.hint()\n",
    "#q5.solution()"
   ]
  },
  {
   "cell_type": "markdown",
   "id": "daf07ccc",
   "metadata": {
    "papermill": {
     "duration": 0.00645,
     "end_time": "2023-08-07T06:41:05.208414",
     "exception": false,
     "start_time": "2023-08-07T06:41:05.201964",
     "status": "completed"
    },
    "tags": []
   },
   "source": [
    "# Keep going\n",
    "\n",
    "Move on to learn about **[indexing, selecting and assigning](https://www.kaggle.com/residentmario/indexing-selecting-assigning)**."
   ]
  },
  {
   "cell_type": "markdown",
   "id": "bb1319f2",
   "metadata": {
    "papermill": {
     "duration": 0.006379,
     "end_time": "2023-08-07T06:41:05.221806",
     "exception": false,
     "start_time": "2023-08-07T06:41:05.215427",
     "status": "completed"
    },
    "tags": []
   },
   "source": [
    "---\n",
    "\n",
    "\n",
    "\n",
    "\n",
    "*Have questions or comments? Visit the [course discussion forum](https://www.kaggle.com/learn/pandas/discussion) to chat with other learners.*"
   ]
  }
 ],
 "metadata": {
  "kernelspec": {
   "display_name": "Python 3",
   "language": "python",
   "name": "python3"
  },
  "language_info": {
   "codemirror_mode": {
    "name": "ipython",
    "version": 3
   },
   "file_extension": ".py",
   "mimetype": "text/x-python",
   "name": "python",
   "nbconvert_exporter": "python",
   "pygments_lexer": "ipython3",
   "version": "3.10.12"
  },
  "papermill": {
   "default_parameters": {},
   "duration": 13.543445,
   "end_time": "2023-08-07T06:41:06.050163",
   "environment_variables": {},
   "exception": null,
   "input_path": "__notebook__.ipynb",
   "output_path": "__notebook__.ipynb",
   "parameters": {},
   "start_time": "2023-08-07T06:40:52.506718",
   "version": "2.4.0"
  }
 },
 "nbformat": 4,
 "nbformat_minor": 5
}
