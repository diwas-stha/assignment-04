{
 "cells": [
  {
   "cell_type": "markdown",
   "id": "1e55f4eb",
   "metadata": {
    "papermill": {
     "duration": 0.005439,
     "end_time": "2023-08-07T09:41:57.164291",
     "exception": false,
     "start_time": "2023-08-07T09:41:57.158852",
     "status": "completed"
    },
    "tags": []
   },
   "source": [
    "**This notebook is an exercise in the [Pandas](https://www.kaggle.com/learn/pandas) course.  You can reference the tutorial at [this link](https://www.kaggle.com/residentmario/grouping-and-sorting).**\n",
    "\n",
    "---\n"
   ]
  },
  {
   "cell_type": "markdown",
   "id": "07a6f43b",
   "metadata": {
    "papermill": {
     "duration": 0.004587,
     "end_time": "2023-08-07T09:41:57.173846",
     "exception": false,
     "start_time": "2023-08-07T09:41:57.169259",
     "status": "completed"
    },
    "tags": []
   },
   "source": [
    "# Introduction\n",
    "\n",
    "In these exercises we'll apply groupwise analysis to our dataset.\n",
    "\n",
    "Run the code cell below to load the data before running the exercises."
   ]
  },
  {
   "cell_type": "code",
   "execution_count": 1,
   "id": "cc3b64aa",
   "metadata": {
    "execution": {
     "iopub.execute_input": "2023-08-07T09:41:57.186961Z",
     "iopub.status.busy": "2023-08-07T09:41:57.185880Z",
     "iopub.status.idle": "2023-08-07T09:41:59.854407Z",
     "shell.execute_reply": "2023-08-07T09:41:59.853256Z"
    },
    "papermill": {
     "duration": 2.677109,
     "end_time": "2023-08-07T09:41:59.856411",
     "exception": false,
     "start_time": "2023-08-07T09:41:57.179302",
     "status": "completed"
    },
    "tags": []
   },
   "outputs": [
    {
     "name": "stdout",
     "output_type": "stream",
     "text": [
      "Setup complete.\n"
     ]
    }
   ],
   "source": [
    "import pandas as pd\n",
    "\n",
    "reviews = pd.read_csv(\"../input/wine-reviews/winemag-data-130k-v2.csv\", index_col=0)\n",
    "#pd.set_option(\"display.max_rows\", 5)\n",
    "\n",
    "from learntools.core import binder; binder.bind(globals())\n",
    "from learntools.pandas.grouping_and_sorting import *\n",
    "print(\"Setup complete.\")"
   ]
  },
  {
   "cell_type": "markdown",
   "id": "f474dec8",
   "metadata": {
    "papermill": {
     "duration": 0.00468,
     "end_time": "2023-08-07T09:41:59.866348",
     "exception": false,
     "start_time": "2023-08-07T09:41:59.861668",
     "status": "completed"
    },
    "tags": []
   },
   "source": [
    "# Exercises"
   ]
  },
  {
   "cell_type": "markdown",
   "id": "4c8c7c25",
   "metadata": {
    "papermill": {
     "duration": 0.004616,
     "end_time": "2023-08-07T09:41:59.875740",
     "exception": false,
     "start_time": "2023-08-07T09:41:59.871124",
     "status": "completed"
    },
    "tags": []
   },
   "source": [
    "## 1.\n",
    "Who are the most common wine reviewers in the dataset? Create a `Series` whose index is the `taster_twitter_handle` category from the dataset, and whose values count how many reviews each person wrote."
   ]
  },
  {
   "cell_type": "code",
   "execution_count": 2,
   "id": "7dcfc1a3",
   "metadata": {
    "execution": {
     "iopub.execute_input": "2023-08-07T09:41:59.887200Z",
     "iopub.status.busy": "2023-08-07T09:41:59.886666Z",
     "iopub.status.idle": "2023-08-07T09:41:59.910421Z",
     "shell.execute_reply": "2023-08-07T09:41:59.908690Z"
    },
    "papermill": {
     "duration": 0.033057,
     "end_time": "2023-08-07T09:41:59.913529",
     "exception": false,
     "start_time": "2023-08-07T09:41:59.880472",
     "status": "completed"
    },
    "tags": []
   },
   "outputs": [
    {
     "data": {
      "application/javascript": [
       "parent.postMessage({\"jupyterEvent\": \"custom.exercise_interaction\", \"data\": {\"outcomeType\": 1, \"valueTowardsCompletion\": 0.16666666666666666, \"interactionType\": 1, \"questionType\": 1, \"questionId\": \"1_ReviewsWritten\", \"learnToolsVersion\": \"0.3.4\", \"failureMessage\": \"\", \"exceptionClass\": \"\", \"trace\": \"\"}}, \"*\")"
      ],
      "text/plain": [
       "<IPython.core.display.Javascript object>"
      ]
     },
     "metadata": {},
     "output_type": "display_data"
    },
    {
     "data": {
      "text/markdown": [
       "<span style=\"color:#33cc33\">Correct:</span> \n",
       "\n",
       "\n",
       "```python\n",
       "reviews_written = reviews.groupby('taster_twitter_handle').size()\n",
       "```\n",
       "or\n",
       "```python\n",
       "reviews_written = reviews.groupby('taster_twitter_handle').taster_twitter_handle.count()\n",
       "```\n"
      ],
      "text/plain": [
       "Correct: \n",
       "\n",
       "\n",
       "```python\n",
       "reviews_written = reviews.groupby('taster_twitter_handle').size()\n",
       "```\n",
       "or\n",
       "```python\n",
       "reviews_written = reviews.groupby('taster_twitter_handle').taster_twitter_handle.count()\n",
       "```"
      ]
     },
     "metadata": {},
     "output_type": "display_data"
    }
   ],
   "source": [
    "# Your code here\n",
    "reviews_written = reviews.groupby('taster_twitter_handle').taster_twitter_handle.count()\n",
    "\n",
    "# Check your answer\n",
    "q1.check()"
   ]
  },
  {
   "cell_type": "code",
   "execution_count": 3,
   "id": "a5a25d7d",
   "metadata": {
    "execution": {
     "iopub.execute_input": "2023-08-07T09:41:59.926019Z",
     "iopub.status.busy": "2023-08-07T09:41:59.925656Z",
     "iopub.status.idle": "2023-08-07T09:41:59.930171Z",
     "shell.execute_reply": "2023-08-07T09:41:59.928796Z"
    },
    "papermill": {
     "duration": 0.013884,
     "end_time": "2023-08-07T09:41:59.932776",
     "exception": false,
     "start_time": "2023-08-07T09:41:59.918892",
     "status": "completed"
    },
    "tags": []
   },
   "outputs": [],
   "source": [
    "# q1.hint()\n",
    "# q1.solution()"
   ]
  },
  {
   "cell_type": "markdown",
   "id": "0bebc6cb",
   "metadata": {
    "papermill": {
     "duration": 0.006391,
     "end_time": "2023-08-07T09:41:59.944610",
     "exception": false,
     "start_time": "2023-08-07T09:41:59.938219",
     "status": "completed"
    },
    "tags": []
   },
   "source": [
    "## 2.\n",
    "What is the best wine I can buy for a given amount of money? Create a `Series` whose index is wine prices and whose values is the maximum number of points a wine costing that much was given in a review. Sort the values by price, ascending (so that `4.0` dollars is at the top and `3300.0` dollars is at the bottom)."
   ]
  },
  {
   "cell_type": "code",
   "execution_count": 4,
   "id": "32ed32a4",
   "metadata": {
    "execution": {
     "iopub.execute_input": "2023-08-07T09:41:59.956823Z",
     "iopub.status.busy": "2023-08-07T09:41:59.956480Z",
     "iopub.status.idle": "2023-08-07T09:41:59.969301Z",
     "shell.execute_reply": "2023-08-07T09:41:59.968008Z"
    },
    "papermill": {
     "duration": 0.021978,
     "end_time": "2023-08-07T09:41:59.971831",
     "exception": false,
     "start_time": "2023-08-07T09:41:59.949853",
     "status": "completed"
    },
    "tags": []
   },
   "outputs": [
    {
     "name": "stdout",
     "output_type": "stream",
     "text": [
      "price\n",
      "4.0       86\n",
      "5.0       87\n",
      "6.0       88\n",
      "7.0       91\n",
      "8.0       91\n",
      "          ..\n",
      "1900.0    98\n",
      "2000.0    97\n",
      "2013.0    91\n",
      "2500.0    96\n",
      "3300.0    88\n",
      "Name: points, Length: 390, dtype: int64\n"
     ]
    },
    {
     "data": {
      "application/javascript": [
       "parent.postMessage({\"jupyterEvent\": \"custom.exercise_interaction\", \"data\": {\"outcomeType\": 1, \"valueTowardsCompletion\": 0.16666666666666666, \"interactionType\": 1, \"questionType\": 1, \"questionId\": \"2_BestRatingPerPrice\", \"learnToolsVersion\": \"0.3.4\", \"failureMessage\": \"\", \"exceptionClass\": \"\", \"trace\": \"\"}}, \"*\")"
      ],
      "text/plain": [
       "<IPython.core.display.Javascript object>"
      ]
     },
     "metadata": {},
     "output_type": "display_data"
    },
    {
     "data": {
      "text/markdown": [
       "<span style=\"color:#33cc33\">Correct</span>"
      ],
      "text/plain": [
       "Correct"
      ]
     },
     "metadata": {},
     "output_type": "display_data"
    }
   ],
   "source": [
    "best_rating_per_price = reviews.groupby('price')['points'].max().sort_index()\n",
    "print(best_rating_per_price) \n",
    "\n",
    "\n",
    "# Check your answer\n",
    "q2.check()"
   ]
  },
  {
   "cell_type": "code",
   "execution_count": 5,
   "id": "a5bfa384",
   "metadata": {
    "execution": {
     "iopub.execute_input": "2023-08-07T09:41:59.985848Z",
     "iopub.status.busy": "2023-08-07T09:41:59.985428Z",
     "iopub.status.idle": "2023-08-07T09:41:59.990124Z",
     "shell.execute_reply": "2023-08-07T09:41:59.988841Z"
    },
    "papermill": {
     "duration": 0.013441,
     "end_time": "2023-08-07T09:41:59.991867",
     "exception": false,
     "start_time": "2023-08-07T09:41:59.978426",
     "status": "completed"
    },
    "tags": []
   },
   "outputs": [],
   "source": [
    "# q2.hint()\n",
    "# q2.solution()"
   ]
  },
  {
   "cell_type": "markdown",
   "id": "eaa3ab71",
   "metadata": {
    "papermill": {
     "duration": 0.00512,
     "end_time": "2023-08-07T09:42:00.002575",
     "exception": false,
     "start_time": "2023-08-07T09:41:59.997455",
     "status": "completed"
    },
    "tags": []
   },
   "source": [
    "## 3.\n",
    "What are the minimum and maximum prices for each `variety` of wine? Create a `DataFrame` whose index is the `variety` category from the dataset and whose values are the `min` and `max` values thereof."
   ]
  },
  {
   "cell_type": "code",
   "execution_count": 6,
   "id": "b9748db3",
   "metadata": {
    "execution": {
     "iopub.execute_input": "2023-08-07T09:42:00.014685Z",
     "iopub.status.busy": "2023-08-07T09:42:00.014276Z",
     "iopub.status.idle": "2023-08-07T09:42:00.047243Z",
     "shell.execute_reply": "2023-08-07T09:42:00.045713Z"
    },
    "papermill": {
     "duration": 0.041755,
     "end_time": "2023-08-07T09:42:00.049608",
     "exception": false,
     "start_time": "2023-08-07T09:42:00.007853",
     "status": "completed"
    },
    "tags": []
   },
   "outputs": [
    {
     "name": "stdout",
     "output_type": "stream",
     "text": [
      "              min    max\n",
      "variety                 \n",
      "Abouriou     15.0   75.0\n",
      "Agiorgitiko  10.0   66.0\n",
      "Aglianico     6.0  180.0\n",
      "Aidani       27.0   27.0\n",
      "Airen         8.0   10.0\n",
      "...           ...    ...\n",
      "Zinfandel     5.0  100.0\n",
      "Zlahtina     13.0   16.0\n",
      "Zweigelt      9.0   70.0\n",
      "Çalkarası    19.0   19.0\n",
      "Žilavka      15.0   15.0\n",
      "\n",
      "[707 rows x 2 columns]\n"
     ]
    },
    {
     "data": {
      "application/javascript": [
       "parent.postMessage({\"jupyterEvent\": \"custom.exercise_interaction\", \"data\": {\"outcomeType\": 1, \"valueTowardsCompletion\": 0.16666666666666666, \"interactionType\": 1, \"questionType\": 1, \"questionId\": \"3_PriceExtremes\", \"learnToolsVersion\": \"0.3.4\", \"failureMessage\": \"\", \"exceptionClass\": \"\", \"trace\": \"\"}}, \"*\")"
      ],
      "text/plain": [
       "<IPython.core.display.Javascript object>"
      ]
     },
     "metadata": {},
     "output_type": "display_data"
    },
    {
     "data": {
      "text/markdown": [
       "<span style=\"color:#33cc33\">Correct</span>"
      ],
      "text/plain": [
       "Correct"
      ]
     },
     "metadata": {},
     "output_type": "display_data"
    }
   ],
   "source": [
    "price_extremes = reviews.groupby('variety').price.agg([min, max])\n",
    "print(price_extremes)\n",
    "\n",
    "# Check your answer\n",
    "q3.check()"
   ]
  },
  {
   "cell_type": "code",
   "execution_count": 7,
   "id": "d9a3cea5",
   "metadata": {
    "execution": {
     "iopub.execute_input": "2023-08-07T09:42:00.063743Z",
     "iopub.status.busy": "2023-08-07T09:42:00.063321Z",
     "iopub.status.idle": "2023-08-07T09:42:00.067995Z",
     "shell.execute_reply": "2023-08-07T09:42:00.066655Z"
    },
    "papermill": {
     "duration": 0.01443,
     "end_time": "2023-08-07T09:42:00.070176",
     "exception": false,
     "start_time": "2023-08-07T09:42:00.055746",
     "status": "completed"
    },
    "tags": []
   },
   "outputs": [],
   "source": [
    "#q3.hint()\n",
    "#q3.solution()"
   ]
  },
  {
   "cell_type": "markdown",
   "id": "7b454a91",
   "metadata": {
    "papermill": {
     "duration": 0.005656,
     "end_time": "2023-08-07T09:42:00.082034",
     "exception": false,
     "start_time": "2023-08-07T09:42:00.076378",
     "status": "completed"
    },
    "tags": []
   },
   "source": [
    "## 4.\n",
    "What are the most expensive wine varieties? Create a variable `sorted_varieties` containing a copy of the dataframe from the previous question where varieties are sorted in descending order based on minimum price, then on maximum price (to break ties)."
   ]
  },
  {
   "cell_type": "code",
   "execution_count": 8,
   "id": "815c0001",
   "metadata": {
    "execution": {
     "iopub.execute_input": "2023-08-07T09:42:00.095392Z",
     "iopub.status.busy": "2023-08-07T09:42:00.095045Z",
     "iopub.status.idle": "2023-08-07T09:42:00.108799Z",
     "shell.execute_reply": "2023-08-07T09:42:00.107465Z"
    },
    "papermill": {
     "duration": 0.023695,
     "end_time": "2023-08-07T09:42:00.111514",
     "exception": false,
     "start_time": "2023-08-07T09:42:00.087819",
     "status": "completed"
    },
    "tags": []
   },
   "outputs": [
    {
     "data": {
      "application/javascript": [
       "parent.postMessage({\"jupyterEvent\": \"custom.exercise_interaction\", \"data\": {\"outcomeType\": 1, \"valueTowardsCompletion\": 0.16666666666666666, \"interactionType\": 1, \"questionType\": 1, \"questionId\": \"4_SortedVarieties\", \"learnToolsVersion\": \"0.3.4\", \"failureMessage\": \"\", \"exceptionClass\": \"\", \"trace\": \"\"}}, \"*\")"
      ],
      "text/plain": [
       "<IPython.core.display.Javascript object>"
      ]
     },
     "metadata": {},
     "output_type": "display_data"
    },
    {
     "data": {
      "text/markdown": [
       "<span style=\"color:#33cc33\">Correct</span>"
      ],
      "text/plain": [
       "Correct"
      ]
     },
     "metadata": {},
     "output_type": "display_data"
    }
   ],
   "source": [
    "sorted_varieties = price_extremes.sort_values(by=['min', 'max'], ascending=False)\n",
    "\n",
    "# Check your answer\n",
    "q4.check()"
   ]
  },
  {
   "cell_type": "code",
   "execution_count": 9,
   "id": "b1f654e7",
   "metadata": {
    "execution": {
     "iopub.execute_input": "2023-08-07T09:42:00.127536Z",
     "iopub.status.busy": "2023-08-07T09:42:00.127164Z",
     "iopub.status.idle": "2023-08-07T09:42:00.133000Z",
     "shell.execute_reply": "2023-08-07T09:42:00.131584Z"
    },
    "papermill": {
     "duration": 0.017021,
     "end_time": "2023-08-07T09:42:00.136209",
     "exception": false,
     "start_time": "2023-08-07T09:42:00.119188",
     "status": "completed"
    },
    "tags": []
   },
   "outputs": [],
   "source": [
    "#q4.hint()\n",
    "#q4.solution()"
   ]
  },
  {
   "cell_type": "markdown",
   "id": "a7ab3afa",
   "metadata": {
    "papermill": {
     "duration": 0.00604,
     "end_time": "2023-08-07T09:42:00.148818",
     "exception": false,
     "start_time": "2023-08-07T09:42:00.142778",
     "status": "completed"
    },
    "tags": []
   },
   "source": [
    "## 5.\n",
    "Create a `Series` whose index is reviewers and whose values is the average review score given out by that reviewer. Hint: you will need the `taster_name` and `points` columns."
   ]
  },
  {
   "cell_type": "code",
   "execution_count": 10,
   "id": "092107f2",
   "metadata": {
    "execution": {
     "iopub.execute_input": "2023-08-07T09:42:00.162950Z",
     "iopub.status.busy": "2023-08-07T09:42:00.162589Z",
     "iopub.status.idle": "2023-08-07T09:42:00.182973Z",
     "shell.execute_reply": "2023-08-07T09:42:00.181985Z"
    },
    "papermill": {
     "duration": 0.029671,
     "end_time": "2023-08-07T09:42:00.184890",
     "exception": false,
     "start_time": "2023-08-07T09:42:00.155219",
     "status": "completed"
    },
    "tags": []
   },
   "outputs": [
    {
     "name": "stdout",
     "output_type": "stream",
     "text": [
      "taster_name\n",
      "Alexander Peartree    85.855422\n",
      "Anna Lee C. Iijima    88.415629\n",
      "Anne Krebiehl MW      90.562551\n",
      "Carrie Dykes          86.395683\n",
      "Christina Pickard     87.833333\n",
      "Fiona Adams           86.888889\n",
      "Jeff Jenssen          88.319756\n",
      "Jim Gordon            88.626287\n",
      "Joe Czerwinski        88.536235\n",
      "Kerin O’Keefe         88.867947\n",
      "Lauren Buzzeo         87.739510\n",
      "Matt Kettmann         90.008686\n",
      "Michael Schachner     86.907493\n",
      "Mike DeSimone         89.101167\n",
      "Paul Gregutt          89.082564\n",
      "Roger Voss            88.708003\n",
      "Sean P. Sullivan      88.755739\n",
      "Susan Kostrzewa       86.609217\n",
      "Virginie Boone        89.213379\n",
      "Name: points, dtype: float64\n"
     ]
    },
    {
     "data": {
      "application/javascript": [
       "parent.postMessage({\"jupyterEvent\": \"custom.exercise_interaction\", \"data\": {\"outcomeType\": 1, \"valueTowardsCompletion\": 0.16666666666666666, \"interactionType\": 1, \"questionType\": 1, \"questionId\": \"5_ReviewerMeanRatings\", \"learnToolsVersion\": \"0.3.4\", \"failureMessage\": \"\", \"exceptionClass\": \"\", \"trace\": \"\"}}, \"*\")"
      ],
      "text/plain": [
       "<IPython.core.display.Javascript object>"
      ]
     },
     "metadata": {},
     "output_type": "display_data"
    },
    {
     "data": {
      "text/markdown": [
       "<span style=\"color:#33cc33\">Correct</span>"
      ],
      "text/plain": [
       "Correct"
      ]
     },
     "metadata": {},
     "output_type": "display_data"
    }
   ],
   "source": [
    "reviewer_mean_ratings = reviews.groupby(['taster_name']).points.mean()\n",
    "print(reviewer_mean_ratings)\n",
    "# Check your answer\n",
    "q5.check()"
   ]
  },
  {
   "cell_type": "code",
   "execution_count": 11,
   "id": "e2f37e13",
   "metadata": {
    "execution": {
     "iopub.execute_input": "2023-08-07T09:42:00.199692Z",
     "iopub.status.busy": "2023-08-07T09:42:00.199295Z",
     "iopub.status.idle": "2023-08-07T09:42:00.204889Z",
     "shell.execute_reply": "2023-08-07T09:42:00.203780Z"
    },
    "papermill": {
     "duration": 0.01541,
     "end_time": "2023-08-07T09:42:00.207152",
     "exception": false,
     "start_time": "2023-08-07T09:42:00.191742",
     "status": "completed"
    },
    "tags": []
   },
   "outputs": [],
   "source": [
    "#q5.hint()\n",
    "#q5.solution()"
   ]
  },
  {
   "cell_type": "markdown",
   "id": "bccea620",
   "metadata": {
    "papermill": {
     "duration": 0.006894,
     "end_time": "2023-08-07T09:42:00.221818",
     "exception": false,
     "start_time": "2023-08-07T09:42:00.214924",
     "status": "completed"
    },
    "tags": []
   },
   "source": [
    "Are there significant differences in the average scores assigned by the various reviewers? Run the cell below to use the `describe()` method to see a summary of the range of values."
   ]
  },
  {
   "cell_type": "code",
   "execution_count": 12,
   "id": "6fa027a7",
   "metadata": {
    "execution": {
     "iopub.execute_input": "2023-08-07T09:42:00.237908Z",
     "iopub.status.busy": "2023-08-07T09:42:00.237457Z",
     "iopub.status.idle": "2023-08-07T09:42:00.250718Z",
     "shell.execute_reply": "2023-08-07T09:42:00.249537Z"
    },
    "papermill": {
     "duration": 0.02291,
     "end_time": "2023-08-07T09:42:00.252561",
     "exception": false,
     "start_time": "2023-08-07T09:42:00.229651",
     "status": "completed"
    },
    "tags": []
   },
   "outputs": [
    {
     "data": {
      "text/plain": [
       "count    19.000000\n",
       "mean     88.233026\n",
       "std       1.243610\n",
       "min      85.855422\n",
       "25%      87.323501\n",
       "50%      88.536235\n",
       "75%      88.975256\n",
       "max      90.562551\n",
       "Name: points, dtype: float64"
      ]
     },
     "execution_count": 12,
     "metadata": {},
     "output_type": "execute_result"
    }
   ],
   "source": [
    "reviewer_mean_ratings.describe()"
   ]
  },
  {
   "cell_type": "markdown",
   "id": "4400c755",
   "metadata": {
    "papermill": {
     "duration": 0.006121,
     "end_time": "2023-08-07T09:42:00.265363",
     "exception": false,
     "start_time": "2023-08-07T09:42:00.259242",
     "status": "completed"
    },
    "tags": []
   },
   "source": [
    "## 6.\n",
    "What combination of countries and varieties are most common? Create a `Series` whose index is a `MultiIndex`of `{country, variety}` pairs. For example, a pinot noir produced in the US should map to `{\"US\", \"Pinot Noir\"}`. Sort the values in the `Series` in descending order based on wine count."
   ]
  },
  {
   "cell_type": "code",
   "execution_count": 13,
   "id": "2b0b1526",
   "metadata": {
    "execution": {
     "iopub.execute_input": "2023-08-07T09:42:00.279717Z",
     "iopub.status.busy": "2023-08-07T09:42:00.279321Z",
     "iopub.status.idle": "2023-08-07T09:42:00.310284Z",
     "shell.execute_reply": "2023-08-07T09:42:00.309365Z"
    },
    "papermill": {
     "duration": 0.04103,
     "end_time": "2023-08-07T09:42:00.312774",
     "exception": false,
     "start_time": "2023-08-07T09:42:00.271744",
     "status": "completed"
    },
    "tags": []
   },
   "outputs": [
    {
     "data": {
      "application/javascript": [
       "parent.postMessage({\"jupyterEvent\": \"custom.exercise_interaction\", \"data\": {\"outcomeType\": 1, \"valueTowardsCompletion\": 0.16666666666666666, \"interactionType\": 1, \"questionType\": 1, \"questionId\": \"6_GroupbyCountryVariety\", \"learnToolsVersion\": \"0.3.4\", \"failureMessage\": \"\", \"exceptionClass\": \"\", \"trace\": \"\"}}, \"*\")"
      ],
      "text/plain": [
       "<IPython.core.display.Javascript object>"
      ]
     },
     "metadata": {},
     "output_type": "display_data"
    },
    {
     "data": {
      "text/markdown": [
       "<span style=\"color:#33cc33\">Correct</span>"
      ],
      "text/plain": [
       "Correct"
      ]
     },
     "metadata": {},
     "output_type": "display_data"
    }
   ],
   "source": [
    "country_variety_counts = reviews.groupby(['country', 'variety']).size().sort_values(ascending=False)\n",
    "\n",
    "# Check your answer\n",
    "q6.check()"
   ]
  },
  {
   "cell_type": "code",
   "execution_count": 14,
   "id": "4fa6adbd",
   "metadata": {
    "execution": {
     "iopub.execute_input": "2023-08-07T09:42:00.328375Z",
     "iopub.status.busy": "2023-08-07T09:42:00.327990Z",
     "iopub.status.idle": "2023-08-07T09:42:00.336073Z",
     "shell.execute_reply": "2023-08-07T09:42:00.334991Z"
    },
    "papermill": {
     "duration": 0.018029,
     "end_time": "2023-08-07T09:42:00.337910",
     "exception": false,
     "start_time": "2023-08-07T09:42:00.319881",
     "status": "completed"
    },
    "tags": []
   },
   "outputs": [
    {
     "data": {
      "application/javascript": [
       "parent.postMessage({\"jupyterEvent\": \"custom.exercise_interaction\", \"data\": {\"interactionType\": 2, \"questionType\": 1, \"questionId\": \"6_GroupbyCountryVariety\", \"learnToolsVersion\": \"0.3.4\", \"valueTowardsCompletion\": 0.0, \"failureMessage\": \"\", \"exceptionClass\": \"\", \"trace\": \"\", \"outcomeType\": 4}}, \"*\")"
      ],
      "text/plain": [
       "<IPython.core.display.Javascript object>"
      ]
     },
     "metadata": {},
     "output_type": "display_data"
    },
    {
     "data": {
      "text/markdown": [
       "<span style=\"color:#3366cc\">Hint:</span> Use `groupby()`, and provide a list of columns to group by.  You may also find `size()` and `sort_values()` to be useful!"
      ],
      "text/plain": [
       "Hint: Use `groupby()`, and provide a list of columns to group by.  You may also find `size()` and `sort_values()` to be useful!"
      ]
     },
     "metadata": {},
     "output_type": "display_data"
    }
   ],
   "source": [
    "q6.hint()\n",
    "# q6.solution()"
   ]
  },
  {
   "cell_type": "markdown",
   "id": "4c5dcb5e",
   "metadata": {
    "papermill": {
     "duration": 0.006846,
     "end_time": "2023-08-07T09:42:00.351819",
     "exception": false,
     "start_time": "2023-08-07T09:42:00.344973",
     "status": "completed"
    },
    "tags": []
   },
   "source": [
    "# Keep going\n",
    "\n",
    "Move on to the [**data types and missing data**](https://www.kaggle.com/residentmario/data-types-and-missing-values)."
   ]
  },
  {
   "cell_type": "markdown",
   "id": "c98063be",
   "metadata": {
    "papermill": {
     "duration": 0.006649,
     "end_time": "2023-08-07T09:42:00.365437",
     "exception": false,
     "start_time": "2023-08-07T09:42:00.358788",
     "status": "completed"
    },
    "tags": []
   },
   "source": [
    "---\n",
    "\n",
    "\n",
    "\n",
    "\n",
    "*Have questions or comments? Visit the [course discussion forum](https://www.kaggle.com/learn/pandas/discussion) to chat with other learners.*"
   ]
  }
 ],
 "metadata": {
  "kernelspec": {
   "display_name": "Python 3",
   "language": "python",
   "name": "python3"
  },
  "language_info": {
   "codemirror_mode": {
    "name": "ipython",
    "version": 3
   },
   "file_extension": ".py",
   "mimetype": "text/x-python",
   "name": "python",
   "nbconvert_exporter": "python",
   "pygments_lexer": "ipython3",
   "version": "3.10.12"
  },
  "papermill": {
   "default_parameters": {},
   "duration": 13.137656,
   "end_time": "2023-08-07T09:42:01.295174",
   "environment_variables": {},
   "exception": null,
   "input_path": "__notebook__.ipynb",
   "output_path": "__notebook__.ipynb",
   "parameters": {},
   "start_time": "2023-08-07T09:41:48.157518",
   "version": "2.4.0"
  }
 },
 "nbformat": 4,
 "nbformat_minor": 5
}
